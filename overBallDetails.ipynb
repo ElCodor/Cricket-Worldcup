{
 "cells": [
  {
   "cell_type": "code",
   "execution_count": 2,
   "id": "bf140092",
   "metadata": {},
   "outputs": [],
   "source": [
    "import pandas as pd\n",
    "import numpy as np\n",
    "import re\n",
    "import os\n",
    "import glob\n",
    "import matplotlib.pyplot as plt"
   ]
  },
  {
   "cell_type": "code",
   "execution_count": 3,
   "id": "1ebbb1d9",
   "metadata": {},
   "outputs": [
    {
     "data": {
      "text/html": [
       "<div>\n",
       "<style scoped>\n",
       "    .dataframe tbody tr th:only-of-type {\n",
       "        vertical-align: middle;\n",
       "    }\n",
       "\n",
       "    .dataframe tbody tr th {\n",
       "        vertical-align: top;\n",
       "    }\n",
       "\n",
       "    .dataframe thead th {\n",
       "        text-align: right;\n",
       "    }\n",
       "</style>\n",
       "<table border=\"1\" class=\"dataframe\">\n",
       "  <thead>\n",
       "    <tr style=\"text-align: right;\">\n",
       "      <th></th>\n",
       "      <th>id</th>\n",
       "      <th>countingBall</th>\n",
       "      <th>nonCountingBall</th>\n",
       "      <th>score</th>\n",
       "      <th>bowlerId</th>\n",
       "      <th>facingBatsmanId</th>\n",
       "      <th>boundary</th>\n",
       "      <th>overHistoryId</th>\n",
       "    </tr>\n",
       "  </thead>\n",
       "  <tbody>\n",
       "    <tr>\n",
       "      <th>0</th>\n",
       "      <td>1</td>\n",
       "      <td>1</td>\n",
       "      <td>1</td>\n",
       "      <td>1</td>\n",
       "      <td>5591.0</td>\n",
       "      <td>1220.0</td>\n",
       "      <td>False</td>\n",
       "      <td>84666</td>\n",
       "    </tr>\n",
       "    <tr>\n",
       "      <th>1</th>\n",
       "      <td>2</td>\n",
       "      <td>2</td>\n",
       "      <td>2</td>\n",
       "      <td>.</td>\n",
       "      <td>5591.0</td>\n",
       "      <td>1601.0</td>\n",
       "      <td>False</td>\n",
       "      <td>84666</td>\n",
       "    </tr>\n",
       "    <tr>\n",
       "      <th>2</th>\n",
       "      <td>3</td>\n",
       "      <td>3</td>\n",
       "      <td>3</td>\n",
       "      <td>.</td>\n",
       "      <td>5591.0</td>\n",
       "      <td>1601.0</td>\n",
       "      <td>False</td>\n",
       "      <td>84666</td>\n",
       "    </tr>\n",
       "    <tr>\n",
       "      <th>3</th>\n",
       "      <td>4</td>\n",
       "      <td>4</td>\n",
       "      <td>4</td>\n",
       "      <td>1Wd</td>\n",
       "      <td>5591.0</td>\n",
       "      <td>1601.0</td>\n",
       "      <td>False</td>\n",
       "      <td>84666</td>\n",
       "    </tr>\n",
       "    <tr>\n",
       "      <th>4</th>\n",
       "      <td>5</td>\n",
       "      <td>4</td>\n",
       "      <td>5</td>\n",
       "      <td>.</td>\n",
       "      <td>5591.0</td>\n",
       "      <td>1601.0</td>\n",
       "      <td>False</td>\n",
       "      <td>84666</td>\n",
       "    </tr>\n",
       "    <tr>\n",
       "      <th>...</th>\n",
       "      <td>...</td>\n",
       "      <td>...</td>\n",
       "      <td>...</td>\n",
       "      <td>...</td>\n",
       "      <td>...</td>\n",
       "      <td>...</td>\n",
       "      <td>...</td>\n",
       "      <td>...</td>\n",
       "    </tr>\n",
       "    <tr>\n",
       "      <th>157318</th>\n",
       "      <td>157319</td>\n",
       "      <td>5</td>\n",
       "      <td>5</td>\n",
       "      <td>.</td>\n",
       "      <td>1894.0</td>\n",
       "      <td>857.0</td>\n",
       "      <td>False</td>\n",
       "      <td>110410</td>\n",
       "    </tr>\n",
       "    <tr>\n",
       "      <th>157319</th>\n",
       "      <td>157320</td>\n",
       "      <td>6</td>\n",
       "      <td>6</td>\n",
       "      <td>.</td>\n",
       "      <td>1894.0</td>\n",
       "      <td>857.0</td>\n",
       "      <td>False</td>\n",
       "      <td>110410</td>\n",
       "    </tr>\n",
       "    <tr>\n",
       "      <th>157320</th>\n",
       "      <td>157321</td>\n",
       "      <td>1</td>\n",
       "      <td>1</td>\n",
       "      <td>4</td>\n",
       "      <td>4567.0</td>\n",
       "      <td>17118.0</td>\n",
       "      <td>True</td>\n",
       "      <td>110411</td>\n",
       "    </tr>\n",
       "    <tr>\n",
       "      <th>157321</th>\n",
       "      <td>157322</td>\n",
       "      <td>2</td>\n",
       "      <td>2</td>\n",
       "      <td>.</td>\n",
       "      <td>4567.0</td>\n",
       "      <td>17118.0</td>\n",
       "      <td>False</td>\n",
       "      <td>110411</td>\n",
       "    </tr>\n",
       "    <tr>\n",
       "      <th>157322</th>\n",
       "      <td>157323</td>\n",
       "      <td>3</td>\n",
       "      <td>3</td>\n",
       "      <td>W</td>\n",
       "      <td>4567.0</td>\n",
       "      <td>17118.0</td>\n",
       "      <td>False</td>\n",
       "      <td>110411</td>\n",
       "    </tr>\n",
       "  </tbody>\n",
       "</table>\n",
       "<p>157323 rows × 8 columns</p>\n",
       "</div>"
      ],
      "text/plain": [
       "            id  countingBall  nonCountingBall score  bowlerId  \\\n",
       "0            1             1                1     1    5591.0   \n",
       "1            2             2                2     .    5591.0   \n",
       "2            3             3                3     .    5591.0   \n",
       "3            4             4                4   1Wd    5591.0   \n",
       "4            5             4                5     .    5591.0   \n",
       "...        ...           ...              ...   ...       ...   \n",
       "157318  157319             5                5     .    1894.0   \n",
       "157319  157320             6                6     .    1894.0   \n",
       "157320  157321             1                1     4    4567.0   \n",
       "157321  157322             2                2     .    4567.0   \n",
       "157322  157323             3                3     W    4567.0   \n",
       "\n",
       "        facingBatsmanId  boundary  overHistoryId  \n",
       "0                1220.0     False          84666  \n",
       "1                1601.0     False          84666  \n",
       "2                1601.0     False          84666  \n",
       "3                1601.0     False          84666  \n",
       "4                1601.0     False          84666  \n",
       "...                 ...       ...            ...  \n",
       "157318            857.0     False         110410  \n",
       "157319            857.0     False         110410  \n",
       "157320          17118.0      True         110411  \n",
       "157321          17118.0     False         110411  \n",
       "157322          17118.0     False         110411  \n",
       "\n",
       "[157323 rows x 8 columns]"
      ]
     },
     "execution_count": 3,
     "metadata": {},
     "output_type": "execute_result"
    }
   ],
   "source": [
    "overBallDetails_df = pd.read_csv('E:\\EDA\\ICC Cricket World Cup\\overBallDetails.csv')\n",
    "overBallDetails_df\n"
   ]
  },
  {
   "cell_type": "code",
   "execution_count": 4,
   "id": "05cd77cd",
   "metadata": {},
   "outputs": [
    {
     "data": {
      "text/plain": [
       "id                   0\n",
       "countingBall         0\n",
       "nonCountingBall      0\n",
       "score                0\n",
       "bowlerId           101\n",
       "facingBatsmanId      3\n",
       "boundary             0\n",
       "overHistoryId        0\n",
       "dtype: int64"
      ]
     },
     "execution_count": 4,
     "metadata": {},
     "output_type": "execute_result"
    }
   ],
   "source": [
    "overBallDetails_df.isnull().sum()"
   ]
  },
  {
   "cell_type": "code",
   "execution_count": 5,
   "id": "aa31aafa",
   "metadata": {},
   "outputs": [],
   "source": [
    "# Forward fill null values in 'bowlerId' and 'facingBatsmanId'\n",
    "overBallDetails_df['bowlerId'].fillna(method='ffill', inplace=True)\n",
    "overBallDetails_df['facingBatsmanId'].fillna(method='ffill', inplace=True)"
   ]
  },
  {
   "cell_type": "code",
   "execution_count": 6,
   "id": "6b91ad00",
   "metadata": {},
   "outputs": [],
   "source": [
    "# Replace '.' with '0' in the 'score' column. There are many cells in score column with '.' as value.\n",
    "overBallDetails_df['score'] = overBallDetails_df['score'].replace('.', '0')"
   ]
  },
  {
   "cell_type": "markdown",
   "id": "bda16150",
   "metadata": {},
   "source": [
    "We will change the dtypes of bowlerId and facingBatsmanId to int."
   ]
  },
  {
   "cell_type": "code",
   "execution_count": 7,
   "id": "9336b7ab",
   "metadata": {},
   "outputs": [],
   "source": [
    "# Convert 'bowlerId' column to int (if there are no NaNs)\n",
    "overBallDetails_df['bowlerId'] = overBallDetails_df['bowlerId'].astype(int)\n",
    "\n",
    "# Convert 'facingBatsmanId' column to int (if there are no NaNs)\n",
    "overBallDetails_df['facingBatsmanId'] = overBallDetails_df['facingBatsmanId'].astype(int)"
   ]
  },
  {
   "cell_type": "code",
   "execution_count": 8,
   "id": "476b3dc7",
   "metadata": {},
   "outputs": [],
   "source": [
    "# Remove duplicate rows based on all columns\n",
    "overBallDetails_df.drop_duplicates(inplace=True)"
   ]
  },
  {
   "cell_type": "code",
   "execution_count": 9,
   "id": "330ae08e",
   "metadata": {},
   "outputs": [
    {
     "name": "stdout",
     "output_type": "stream",
     "text": [
      "<class 'pandas.core.frame.DataFrame'>\n",
      "RangeIndex: 157323 entries, 0 to 157322\n",
      "Data columns (total 8 columns):\n",
      " #   Column           Non-Null Count   Dtype \n",
      "---  ------           --------------   ----- \n",
      " 0   id               157323 non-null  int64 \n",
      " 1   countingBall     157323 non-null  int64 \n",
      " 2   nonCountingBall  157323 non-null  int64 \n",
      " 3   score            157323 non-null  object\n",
      " 4   bowlerId         157323 non-null  int32 \n",
      " 5   facingBatsmanId  157323 non-null  int32 \n",
      " 6   boundary         157323 non-null  bool  \n",
      " 7   overHistoryId    157323 non-null  int64 \n",
      "dtypes: bool(1), int32(2), int64(4), object(1)\n",
      "memory usage: 7.4+ MB\n"
     ]
    }
   ],
   "source": [
    "overBallDetails_df.info()"
   ]
  },
  {
   "cell_type": "markdown",
   "id": "5ccf6ea5",
   "metadata": {},
   "source": [
    "Lets save the cleaned overBallDetails_df in a specific folder."
   ]
  },
  {
   "cell_type": "code",
   "execution_count": 10,
   "id": "c6d33edf",
   "metadata": {},
   "outputs": [],
   "source": [
    "# Define the file path where you want to save the CSV files\n",
    "folder_path = r'E:\\EDA\\ICC Cricket World Cup\\cleanedFiles'\n",
    "\n",
    "# Save the DataFrame as a CSV file in the specified folder\n",
    "overBallDetails_df.to_csv(folder_path + '\\\\overBallDetails.csv', index=False)"
   ]
  },
  {
   "cell_type": "code",
   "execution_count": null,
   "id": "03ba9337",
   "metadata": {},
   "outputs": [],
   "source": []
  }
 ],
 "metadata": {
  "kernelspec": {
   "display_name": "Python 3 (ipykernel)",
   "language": "python",
   "name": "python3"
  },
  "language_info": {
   "codemirror_mode": {
    "name": "ipython",
    "version": 3
   },
   "file_extension": ".py",
   "mimetype": "text/x-python",
   "name": "python",
   "nbconvert_exporter": "python",
   "pygments_lexer": "ipython3",
   "version": "3.11.5"
  }
 },
 "nbformat": 4,
 "nbformat_minor": 5
}
