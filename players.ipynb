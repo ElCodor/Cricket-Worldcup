{
 "cells": [
  {
   "cell_type": "code",
   "execution_count": 3,
   "id": "12d61dad",
   "metadata": {},
   "outputs": [],
   "source": [
    "import pandas as pd\n",
    "import numpy as np\n",
    "import re\n",
    "import os\n",
    "import glob\n",
    "import matplotlib.pyplot as plt"
   ]
  },
  {
   "cell_type": "code",
   "execution_count": 4,
   "id": "2bb77184",
   "metadata": {},
   "outputs": [
    {
     "data": {
      "text/html": [
       "<div>\n",
       "<style scoped>\n",
       "    .dataframe tbody tr th:only-of-type {\n",
       "        vertical-align: middle;\n",
       "    }\n",
       "\n",
       "    .dataframe tbody tr th {\n",
       "        vertical-align: top;\n",
       "    }\n",
       "\n",
       "    .dataframe thead th {\n",
       "        text-align: right;\n",
       "    }\n",
       "</style>\n",
       "<table border=\"1\" class=\"dataframe\">\n",
       "  <thead>\n",
       "    <tr style=\"text-align: right;\">\n",
       "      <th></th>\n",
       "      <th>id</th>\n",
       "      <th>fullName</th>\n",
       "      <th>shortName</th>\n",
       "      <th>nationality</th>\n",
       "      <th>dateOfBirth</th>\n",
       "      <th>rightArmedBowl</th>\n",
       "      <th>rightHandedBat</th>\n",
       "      <th>bowlingStyle</th>\n",
       "      <th>teamId</th>\n",
       "    </tr>\n",
       "  </thead>\n",
       "  <tbody>\n",
       "    <tr>\n",
       "      <th>0</th>\n",
       "      <td>2065</td>\n",
       "      <td>Rick McCosker</td>\n",
       "      <td>RB McCosker</td>\n",
       "      <td>Australian</td>\n",
       "      <td>1946-12-11</td>\n",
       "      <td>False</td>\n",
       "      <td>True</td>\n",
       "      <td>NaN</td>\n",
       "      <td>2808</td>\n",
       "    </tr>\n",
       "    <tr>\n",
       "      <th>1</th>\n",
       "      <td>2114</td>\n",
       "      <td>Alan Turner</td>\n",
       "      <td>A Turner</td>\n",
       "      <td>Australian</td>\n",
       "      <td>1950-07-23</td>\n",
       "      <td>False</td>\n",
       "      <td>True</td>\n",
       "      <td>NaN</td>\n",
       "      <td>2808</td>\n",
       "    </tr>\n",
       "    <tr>\n",
       "      <th>2</th>\n",
       "      <td>2083</td>\n",
       "      <td>Greg Chappell</td>\n",
       "      <td>G Chappell</td>\n",
       "      <td>Australian</td>\n",
       "      <td>1948-08-07</td>\n",
       "      <td>True</td>\n",
       "      <td>True</td>\n",
       "      <td>MEDIUM_SEAM</td>\n",
       "      <td>2808</td>\n",
       "    </tr>\n",
       "    <tr>\n",
       "      <th>3</th>\n",
       "      <td>2115</td>\n",
       "      <td>Jeff Thomson</td>\n",
       "      <td>J Thomson</td>\n",
       "      <td>Australian</td>\n",
       "      <td>1950-08-16</td>\n",
       "      <td>True</td>\n",
       "      <td>True</td>\n",
       "      <td>FAST_SEAM</td>\n",
       "      <td>2808</td>\n",
       "    </tr>\n",
       "    <tr>\n",
       "      <th>4</th>\n",
       "      <td>2020</td>\n",
       "      <td>Ian Chappell</td>\n",
       "      <td>I Chappell</td>\n",
       "      <td>Australian</td>\n",
       "      <td>1943-09-26</td>\n",
       "      <td>True</td>\n",
       "      <td>True</td>\n",
       "      <td>LEG_SPIN</td>\n",
       "      <td>2808</td>\n",
       "    </tr>\n",
       "  </tbody>\n",
       "</table>\n",
       "</div>"
      ],
      "text/plain": [
       "     id       fullName    shortName nationality dateOfBirth  rightArmedBowl  \\\n",
       "0  2065  Rick McCosker  RB McCosker  Australian  1946-12-11           False   \n",
       "1  2114    Alan Turner     A Turner  Australian  1950-07-23           False   \n",
       "2  2083  Greg Chappell   G Chappell  Australian  1948-08-07            True   \n",
       "3  2115   Jeff Thomson    J Thomson  Australian  1950-08-16            True   \n",
       "4  2020   Ian Chappell   I Chappell  Australian  1943-09-26            True   \n",
       "\n",
       "   rightHandedBat bowlingStyle  teamId  \n",
       "0            True          NaN    2808  \n",
       "1            True          NaN    2808  \n",
       "2            True  MEDIUM_SEAM    2808  \n",
       "3            True    FAST_SEAM    2808  \n",
       "4            True     LEG_SPIN    2808  "
      ]
     },
     "execution_count": 4,
     "metadata": {},
     "output_type": "execute_result"
    }
   ],
   "source": [
    "players_df = pd.read_csv('E:\\EDA\\ICC Cricket World Cup\\players.csv')\n",
    "players_df.head(5)"
   ]
  },
  {
   "cell_type": "code",
   "execution_count": 5,
   "id": "aea657c5",
   "metadata": {},
   "outputs": [
    {
     "data": {
      "text/plain": [
       "id                    0\n",
       "fullName              0\n",
       "shortName             0\n",
       "nationality         662\n",
       "dateOfBirth         562\n",
       "rightArmedBowl        0\n",
       "rightHandedBat        0\n",
       "bowlingStyle      10583\n",
       "teamId                0\n",
       "dtype: int64"
      ]
     },
     "execution_count": 5,
     "metadata": {},
     "output_type": "execute_result"
    }
   ],
   "source": [
    "players_df.isnull().sum()"
   ]
  },
  {
   "cell_type": "code",
   "execution_count": 6,
   "id": "7289dcfb",
   "metadata": {},
   "outputs": [
    {
     "name": "stdout",
     "output_type": "stream",
     "text": [
      "<class 'pandas.core.frame.DataFrame'>\n",
      "RangeIndex: 28911 entries, 0 to 28910\n",
      "Data columns (total 9 columns):\n",
      " #   Column          Non-Null Count  Dtype \n",
      "---  ------          --------------  ----- \n",
      " 0   id              28911 non-null  int64 \n",
      " 1   fullName        28911 non-null  object\n",
      " 2   shortName       28911 non-null  object\n",
      " 3   nationality     28249 non-null  object\n",
      " 4   dateOfBirth     28349 non-null  object\n",
      " 5   rightArmedBowl  28911 non-null  bool  \n",
      " 6   rightHandedBat  28911 non-null  bool  \n",
      " 7   bowlingStyle    18328 non-null  object\n",
      " 8   teamId          28911 non-null  int64 \n",
      "dtypes: bool(2), int64(2), object(5)\n",
      "memory usage: 1.6+ MB\n"
     ]
    }
   ],
   "source": [
    "players_df.info()"
   ]
  },
  {
   "cell_type": "markdown",
   "id": "8108f35a",
   "metadata": {},
   "source": [
    "We will delete the dateOfBirth column as it has many missing values and also we wont be needing it for further anlysis"
   ]
  },
  {
   "cell_type": "code",
   "execution_count": 7,
   "id": "cac45d40",
   "metadata": {},
   "outputs": [],
   "source": [
    "players_df.drop(columns=['dateOfBirth'], inplace=True)"
   ]
  },
  {
   "cell_type": "code",
   "execution_count": 8,
   "id": "ae68c350",
   "metadata": {},
   "outputs": [
    {
     "data": {
      "text/plain": [
       "id                    0\n",
       "fullName              0\n",
       "shortName             0\n",
       "nationality         662\n",
       "rightArmedBowl        0\n",
       "rightHandedBat        0\n",
       "bowlingStyle      10583\n",
       "teamId                0\n",
       "dtype: int64"
      ]
     },
     "execution_count": 8,
     "metadata": {},
     "output_type": "execute_result"
    }
   ],
   "source": [
    "players_df.isnull().sum()"
   ]
  },
  {
   "cell_type": "code",
   "execution_count": 9,
   "id": "4dcb9e1f",
   "metadata": {},
   "outputs": [],
   "source": [
    "# Remove duplicates from the players_df\n",
    "players_df.drop_duplicates(inplace=True)"
   ]
  },
  {
   "cell_type": "code",
   "execution_count": 10,
   "id": "0181a45f",
   "metadata": {},
   "outputs": [],
   "source": [
    "# Forward fill missing values in 'nationality' and 'bowlingStyle' columns\n",
    "players_df['nationality'].fillna(method='ffill', inplace=True)\n",
    "players_df['bowlingStyle'].fillna(method='ffill', inplace=True)\n",
    "players_df['bowlingStyle'].fillna(method='bfill', inplace=True)"
   ]
  },
  {
   "cell_type": "code",
   "execution_count": 11,
   "id": "c11d29ca",
   "metadata": {},
   "outputs": [
    {
     "data": {
      "text/plain": [
       "id                0\n",
       "fullName          0\n",
       "shortName         0\n",
       "nationality       0\n",
       "rightArmedBowl    0\n",
       "rightHandedBat    0\n",
       "bowlingStyle      0\n",
       "teamId            0\n",
       "dtype: int64"
      ]
     },
     "execution_count": 11,
     "metadata": {},
     "output_type": "execute_result"
    }
   ],
   "source": [
    "players_df.isnull().sum()"
   ]
  },
  {
   "cell_type": "code",
   "execution_count": 12,
   "id": "dece3a37",
   "metadata": {},
   "outputs": [
    {
     "name": "stdout",
     "output_type": "stream",
     "text": [
      "<class 'pandas.core.frame.DataFrame'>\n",
      "RangeIndex: 28911 entries, 0 to 28910\n",
      "Data columns (total 8 columns):\n",
      " #   Column          Non-Null Count  Dtype \n",
      "---  ------          --------------  ----- \n",
      " 0   id              28911 non-null  int64 \n",
      " 1   fullName        28911 non-null  object\n",
      " 2   shortName       28911 non-null  object\n",
      " 3   nationality     28911 non-null  object\n",
      " 4   rightArmedBowl  28911 non-null  bool  \n",
      " 5   rightHandedBat  28911 non-null  bool  \n",
      " 6   bowlingStyle    28911 non-null  object\n",
      " 7   teamId          28911 non-null  int64 \n",
      "dtypes: bool(2), int64(2), object(4)\n",
      "memory usage: 1.4+ MB\n"
     ]
    }
   ],
   "source": [
    "players_df.info()"
   ]
  },
  {
   "cell_type": "markdown",
   "id": "517f68b7",
   "metadata": {},
   "source": [
    "Lets save the cleaned players_df in a specific folder."
   ]
  },
  {
   "cell_type": "code",
   "execution_count": 13,
   "id": "bbfedd68",
   "metadata": {},
   "outputs": [],
   "source": [
    "# Define the file path where you want to save the CSV files\n",
    "folder_path = r'E:\\EDA\\ICC Cricket World Cup\\cleanedFiles'\n",
    "\n",
    "# Save the DataFrame as a CSV file in the specified folder\n",
    "players_df.to_csv(folder_path + '\\\\players.csv', index=False)"
   ]
  },
  {
   "cell_type": "code",
   "execution_count": null,
   "id": "45cb46fe",
   "metadata": {},
   "outputs": [],
   "source": []
  }
 ],
 "metadata": {
  "kernelspec": {
   "display_name": "Python 3 (ipykernel)",
   "language": "python",
   "name": "python3"
  },
  "language_info": {
   "codemirror_mode": {
    "name": "ipython",
    "version": 3
   },
   "file_extension": ".py",
   "mimetype": "text/x-python",
   "name": "python",
   "nbconvert_exporter": "python",
   "pygments_lexer": "ipython3",
   "version": "3.11.5"
  }
 },
 "nbformat": 4,
 "nbformat_minor": 5
}
