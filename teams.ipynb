{
 "cells": [
  {
   "cell_type": "code",
   "execution_count": 1,
   "id": "b4b09b49",
   "metadata": {},
   "outputs": [],
   "source": [
    "import pandas as pd\n",
    "import numpy as np\n",
    "import re\n",
    "import os\n",
    "import glob\n",
    "import matplotlib.pyplot as plt"
   ]
  },
  {
   "cell_type": "code",
   "execution_count": 3,
   "id": "019e9418",
   "metadata": {},
   "outputs": [
    {
     "data": {
      "text/html": [
       "<div>\n",
       "<style scoped>\n",
       "    .dataframe tbody tr th:only-of-type {\n",
       "        vertical-align: middle;\n",
       "    }\n",
       "\n",
       "    .dataframe tbody tr th {\n",
       "        vertical-align: top;\n",
       "    }\n",
       "\n",
       "    .dataframe thead th {\n",
       "        text-align: right;\n",
       "    }\n",
       "</style>\n",
       "<table border=\"1\" class=\"dataframe\">\n",
       "  <thead>\n",
       "    <tr style=\"text-align: right;\">\n",
       "      <th></th>\n",
       "      <th>id</th>\n",
       "      <th>fullName</th>\n",
       "      <th>shortName</th>\n",
       "      <th>abbreviation</th>\n",
       "      <th>wicketKeeperId</th>\n",
       "      <th>captainId</th>\n",
       "    </tr>\n",
       "  </thead>\n",
       "  <tbody>\n",
       "    <tr>\n",
       "      <th>0</th>\n",
       "      <td>11</td>\n",
       "      <td>England</td>\n",
       "      <td>England</td>\n",
       "      <td>ENG</td>\n",
       "      <td>2050.0</td>\n",
       "      <td>1988.0</td>\n",
       "    </tr>\n",
       "    <tr>\n",
       "      <th>1</th>\n",
       "      <td>11</td>\n",
       "      <td>England</td>\n",
       "      <td>England</td>\n",
       "      <td>ENG</td>\n",
       "      <td>1996.0</td>\n",
       "      <td>2004.0</td>\n",
       "    </tr>\n",
       "    <tr>\n",
       "      <th>2</th>\n",
       "      <td>11</td>\n",
       "      <td>England</td>\n",
       "      <td>England</td>\n",
       "      <td>ENG</td>\n",
       "      <td>2229.0</td>\n",
       "      <td>2096.0</td>\n",
       "    </tr>\n",
       "    <tr>\n",
       "      <th>3</th>\n",
       "      <td>11</td>\n",
       "      <td>England</td>\n",
       "      <td>England</td>\n",
       "      <td>ENG</td>\n",
       "      <td>2222.0</td>\n",
       "      <td>2226.0</td>\n",
       "    </tr>\n",
       "    <tr>\n",
       "      <th>4</th>\n",
       "      <td>11</td>\n",
       "      <td>England</td>\n",
       "      <td>England</td>\n",
       "      <td>ENG</td>\n",
       "      <td>2330.0</td>\n",
       "      <td>2169.0</td>\n",
       "    </tr>\n",
       "  </tbody>\n",
       "</table>\n",
       "</div>"
      ],
      "text/plain": [
       "   id fullName shortName abbreviation  wicketKeeperId  captainId\n",
       "0  11  England   England          ENG          2050.0     1988.0\n",
       "1  11  England   England          ENG          1996.0     2004.0\n",
       "2  11  England   England          ENG          2229.0     2096.0\n",
       "3  11  England   England          ENG          2222.0     2226.0\n",
       "4  11  England   England          ENG          2330.0     2169.0"
      ]
     },
     "execution_count": 3,
     "metadata": {},
     "output_type": "execute_result"
    }
   ],
   "source": [
    "teams_df = pd.read_csv(r'E:\\EDA\\ICC Cricket World Cup\\teams.csv')\n",
    "teams_df.head(5)"
   ]
  },
  {
   "cell_type": "code",
   "execution_count": 4,
   "id": "2e92b552",
   "metadata": {},
   "outputs": [
    {
     "data": {
      "text/plain": [
       "id                0\n",
       "fullName          0\n",
       "shortName         0\n",
       "abbreviation      0\n",
       "wicketKeeperId    7\n",
       "captainId         6\n",
       "dtype: int64"
      ]
     },
     "execution_count": 4,
     "metadata": {},
     "output_type": "execute_result"
    }
   ],
   "source": [
    "teams_df.isnull().sum()"
   ]
  },
  {
   "cell_type": "markdown",
   "id": "72ae3adc",
   "metadata": {},
   "source": [
    "Lets fill the missing values of wicketKeeperId and captainId with backward fill. its make sense as i checked the dataset and filling it with backward fill will correctly fill the these missing values."
   ]
  },
  {
   "cell_type": "code",
   "execution_count": 6,
   "id": "5f8020e1",
   "metadata": {},
   "outputs": [],
   "source": [
    "# Fill missing values in 'wicketKeeperId' and 'captainId' columns with backward fill\n",
    "teams_df['wicketKeeperId'].fillna(method='bfill', inplace=True)\n",
    "teams_df['captainId'].fillna(method='bfill', inplace=True)\n"
   ]
  },
  {
   "cell_type": "code",
   "execution_count": 7,
   "id": "18877b80",
   "metadata": {},
   "outputs": [
    {
     "data": {
      "text/plain": [
       "id                0\n",
       "fullName          0\n",
       "shortName         0\n",
       "abbreviation      0\n",
       "wicketKeeperId    1\n",
       "captainId         1\n",
       "dtype: int64"
      ]
     },
     "execution_count": 7,
     "metadata": {},
     "output_type": "execute_result"
    }
   ],
   "source": [
    "teams_df.isnull().sum()"
   ]
  },
  {
   "cell_type": "markdown",
   "id": "aa1ea375",
   "metadata": {},
   "source": [
    "There's still one values missing in each. so lets it with forward fill"
   ]
  },
  {
   "cell_type": "code",
   "execution_count": 8,
   "id": "a1cbef2b",
   "metadata": {},
   "outputs": [],
   "source": [
    "teams_df['wicketKeeperId'].fillna(method='ffill', inplace=True)\n",
    "teams_df['captainId'].fillna(method='ffill', inplace=True)"
   ]
  },
  {
   "cell_type": "code",
   "execution_count": 9,
   "id": "16b5b053",
   "metadata": {},
   "outputs": [
    {
     "data": {
      "text/plain": [
       "id                0\n",
       "fullName          0\n",
       "shortName         0\n",
       "abbreviation      0\n",
       "wicketKeeperId    0\n",
       "captainId         0\n",
       "dtype: int64"
      ]
     },
     "execution_count": 9,
     "metadata": {},
     "output_type": "execute_result"
    }
   ],
   "source": [
    "teams_df.isnull().sum()"
   ]
  },
  {
   "cell_type": "code",
   "execution_count": 10,
   "id": "7fcc9259",
   "metadata": {},
   "outputs": [
    {
     "name": "stdout",
     "output_type": "stream",
     "text": [
      "<class 'pandas.core.frame.DataFrame'>\n",
      "RangeIndex: 354 entries, 0 to 353\n",
      "Data columns (total 6 columns):\n",
      " #   Column          Non-Null Count  Dtype  \n",
      "---  ------          --------------  -----  \n",
      " 0   id              354 non-null    int64  \n",
      " 1   fullName        354 non-null    object \n",
      " 2   shortName       354 non-null    object \n",
      " 3   abbreviation    354 non-null    object \n",
      " 4   wicketKeeperId  354 non-null    float64\n",
      " 5   captainId       354 non-null    float64\n",
      "dtypes: float64(2), int64(1), object(3)\n",
      "memory usage: 16.7+ KB\n"
     ]
    }
   ],
   "source": [
    "teams_df.info()"
   ]
  },
  {
   "cell_type": "code",
   "execution_count": 13,
   "id": "eae44e65",
   "metadata": {},
   "outputs": [],
   "source": [
    "# Convert 'wicketKeeperId' and 'captainId' columns from float to integer\n",
    "teams_df['wicketKeeperId'] = teams_df['wicketKeeperId'].astype('Int64')\n",
    "teams_df['captainId'] = teams_df['captainId'].astype('Int64')"
   ]
  },
  {
   "cell_type": "code",
   "execution_count": 14,
   "id": "dca9f221",
   "metadata": {},
   "outputs": [
    {
     "name": "stdout",
     "output_type": "stream",
     "text": [
      "<class 'pandas.core.frame.DataFrame'>\n",
      "RangeIndex: 354 entries, 0 to 353\n",
      "Data columns (total 6 columns):\n",
      " #   Column          Non-Null Count  Dtype \n",
      "---  ------          --------------  ----- \n",
      " 0   id              354 non-null    int64 \n",
      " 1   fullName        354 non-null    object\n",
      " 2   shortName       354 non-null    object\n",
      " 3   abbreviation    354 non-null    object\n",
      " 4   wicketKeeperId  354 non-null    Int64 \n",
      " 5   captainId       354 non-null    Int64 \n",
      "dtypes: Int64(2), int64(1), object(3)\n",
      "memory usage: 17.4+ KB\n"
     ]
    }
   ],
   "source": [
    "teams_df.info()"
   ]
  },
  {
   "cell_type": "markdown",
   "id": "b9df0e0b",
   "metadata": {},
   "source": [
    "Lets save the cleaned teams_df in a specific folder."
   ]
  },
  {
   "cell_type": "code",
   "execution_count": 15,
   "id": "da55399c",
   "metadata": {},
   "outputs": [],
   "source": [
    "# Define the file path where you want to save the CSV files\n",
    "folder_path = r'E:\\EDA\\ICC Cricket World Cup\\cleanedFiles'\n",
    "\n",
    "# Save the DataFrame as a CSV file in the specified folder\n",
    "teams_df.to_csv(folder_path + '\\\\teams.csv', index=False)"
   ]
  },
  {
   "cell_type": "code",
   "execution_count": null,
   "id": "07cb5b14",
   "metadata": {},
   "outputs": [],
   "source": []
  }
 ],
 "metadata": {
  "kernelspec": {
   "display_name": "Python 3 (ipykernel)",
   "language": "python",
   "name": "python3"
  },
  "language_info": {
   "codemirror_mode": {
    "name": "ipython",
    "version": 3
   },
   "file_extension": ".py",
   "mimetype": "text/x-python",
   "name": "python",
   "nbconvert_exporter": "python",
   "pygments_lexer": "ipython3",
   "version": "3.11.5"
  }
 },
 "nbformat": 4,
 "nbformat_minor": 5
}
