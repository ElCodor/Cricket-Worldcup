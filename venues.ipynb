{
 "cells": [
  {
   "cell_type": "code",
   "execution_count": 1,
   "id": "13bb1841",
   "metadata": {},
   "outputs": [],
   "source": [
    "import pandas as pd\n",
    "import numpy as np\n",
    "import re\n",
    "import os\n",
    "import glob\n",
    "import matplotlib.pyplot as plt"
   ]
  },
  {
   "cell_type": "code",
   "execution_count": 2,
   "id": "e00c49e6",
   "metadata": {},
   "outputs": [
    {
     "data": {
      "text/html": [
       "<div>\n",
       "<style scoped>\n",
       "    .dataframe tbody tr th:only-of-type {\n",
       "        vertical-align: middle;\n",
       "    }\n",
       "\n",
       "    .dataframe tbody tr th {\n",
       "        vertical-align: top;\n",
       "    }\n",
       "\n",
       "    .dataframe thead th {\n",
       "        text-align: right;\n",
       "    }\n",
       "</style>\n",
       "<table border=\"1\" class=\"dataframe\">\n",
       "  <thead>\n",
       "    <tr style=\"text-align: right;\">\n",
       "      <th></th>\n",
       "      <th>id</th>\n",
       "      <th>fullName</th>\n",
       "      <th>shortName</th>\n",
       "      <th>city</th>\n",
       "      <th>country</th>\n",
       "    </tr>\n",
       "  </thead>\n",
       "  <tbody>\n",
       "    <tr>\n",
       "      <th>0</th>\n",
       "      <td>1</td>\n",
       "      <td>M. A. Chidambaram Stadium</td>\n",
       "      <td>Chidambaram</td>\n",
       "      <td>Chennai</td>\n",
       "      <td>India</td>\n",
       "    </tr>\n",
       "    <tr>\n",
       "      <th>1</th>\n",
       "      <td>2</td>\n",
       "      <td>Eden Gardens</td>\n",
       "      <td>Eden Gardens</td>\n",
       "      <td>Kolkata</td>\n",
       "      <td>India</td>\n",
       "    </tr>\n",
       "    <tr>\n",
       "      <th>2</th>\n",
       "      <td>3</td>\n",
       "      <td>Sawai Mansingh Stadium</td>\n",
       "      <td>Sawai Mansingh Stadium</td>\n",
       "      <td>Jaipur</td>\n",
       "      <td>India</td>\n",
       "    </tr>\n",
       "    <tr>\n",
       "      <th>3</th>\n",
       "      <td>4</td>\n",
       "      <td>Wankhede Stadium</td>\n",
       "      <td>Wankhede Stadium</td>\n",
       "      <td>Mumbai</td>\n",
       "      <td>India</td>\n",
       "    </tr>\n",
       "    <tr>\n",
       "      <th>4</th>\n",
       "      <td>5</td>\n",
       "      <td>M. Chinnaswamy Stadium</td>\n",
       "      <td>M. Chinnaswamy Stadium</td>\n",
       "      <td>Bengaluru</td>\n",
       "      <td>India</td>\n",
       "    </tr>\n",
       "  </tbody>\n",
       "</table>\n",
       "</div>"
      ],
      "text/plain": [
       "   id                   fullName               shortName       city country\n",
       "0   1  M. A. Chidambaram Stadium             Chidambaram    Chennai   India\n",
       "1   2               Eden Gardens            Eden Gardens    Kolkata   India\n",
       "2   3     Sawai Mansingh Stadium  Sawai Mansingh Stadium     Jaipur   India\n",
       "3   4           Wankhede Stadium        Wankhede Stadium     Mumbai   India\n",
       "4   5     M. Chinnaswamy Stadium  M. Chinnaswamy Stadium  Bengaluru   India"
      ]
     },
     "execution_count": 2,
     "metadata": {},
     "output_type": "execute_result"
    }
   ],
   "source": [
    "venues_df = pd.read_csv(r'E:\\EDA\\ICC Cricket World Cup\\venues.csv')\n",
    "venues_df.head(5)"
   ]
  },
  {
   "cell_type": "code",
   "execution_count": 3,
   "id": "9cd9b6b1",
   "metadata": {},
   "outputs": [
    {
     "data": {
      "text/plain": [
       "id            0\n",
       "fullName      0\n",
       "shortName    20\n",
       "city          8\n",
       "country      20\n",
       "dtype: int64"
      ]
     },
     "execution_count": 3,
     "metadata": {},
     "output_type": "execute_result"
    }
   ],
   "source": [
    "venues_df.isnull().sum()"
   ]
  },
  {
   "cell_type": "markdown",
   "id": "48d11970",
   "metadata": {},
   "source": [
    "The shortName column has missing values. We will drop that since we aleardy had the fullName of stadiums."
   ]
  },
  {
   "cell_type": "code",
   "execution_count": 4,
   "id": "cb0217be",
   "metadata": {},
   "outputs": [],
   "source": [
    "# Dropping the 'shortName' column from the 'venues_df'\n",
    "venues_df.drop(columns='shortName', inplace=True)"
   ]
  },
  {
   "cell_type": "code",
   "execution_count": 5,
   "id": "da382ad4",
   "metadata": {},
   "outputs": [
    {
     "data": {
      "text/plain": [
       "id           0\n",
       "fullName     0\n",
       "city         8\n",
       "country     20\n",
       "dtype: int64"
      ]
     },
     "execution_count": 5,
     "metadata": {},
     "output_type": "execute_result"
    }
   ],
   "source": [
    "venues_df.isnull().sum()"
   ]
  },
  {
   "cell_type": "code",
   "execution_count": 6,
   "id": "d85201bb",
   "metadata": {},
   "outputs": [],
   "source": [
    "# Drop rows with missing values in the 'city' column\n",
    "venues_df.dropna(subset=['city'], inplace=True)"
   ]
  },
  {
   "cell_type": "code",
   "execution_count": 7,
   "id": "2c8a5b38",
   "metadata": {},
   "outputs": [
    {
     "data": {
      "text/plain": [
       "id           0\n",
       "fullName     0\n",
       "city         0\n",
       "country     12\n",
       "dtype: int64"
      ]
     },
     "execution_count": 7,
     "metadata": {},
     "output_type": "execute_result"
    }
   ],
   "source": [
    "venues_df.isnull().sum()"
   ]
  },
  {
   "cell_type": "code",
   "execution_count": 9,
   "id": "c7333387",
   "metadata": {},
   "outputs": [
    {
     "name": "stdout",
     "output_type": "stream",
     "text": [
      "         id                                         fullName           city  \\\n",
      "175  100008                                    County Ground     Chelmsford   \n",
      "176  100009                                      The Village       Malahide   \n",
      "177  100013                              R.Premadasa Stadium     Khettarama   \n",
      "178  100014                              Grange Cricket Club  Raeburn Place   \n",
      "179  100016                                    Moosa Stadium       Pearland   \n",
      "180  100018                                          Titwood        Glasgow   \n",
      "181  100019                            New Cambusdoon Ground            Ayr   \n",
      "184  100112               Rajiv Gandhi International Stadium          Uppal   \n",
      "185  100113                        Barsapara Cricket Stadium       Guwahati   \n",
      "186  100144             Sylhet International Cricket Stadium         Sylhet   \n",
      "189  100178                            YS Raja Reddy Stadium         Kadapa   \n",
      "191  100194  Mahinda Rajapaksa International Cricket Stadium    Sooriyawewa   \n",
      "\n",
      "    country  \n",
      "175     NaN  \n",
      "176     NaN  \n",
      "177     NaN  \n",
      "178     NaN  \n",
      "179     NaN  \n",
      "180     NaN  \n",
      "181     NaN  \n",
      "184     NaN  \n",
      "185     NaN  \n",
      "186     NaN  \n",
      "189     NaN  \n",
      "191     NaN  \n"
     ]
    }
   ],
   "source": [
    "# Filter rows where 'country' values are missing\n",
    "missing_country = venues_df[venues_df['country'].isnull()]\n",
    "\n",
    "# Display the rows where 'country' values are missing\n",
    "print(missing_country[['id', 'fullName', 'city', 'country']])"
   ]
  },
  {
   "cell_type": "code",
   "execution_count": 10,
   "id": "36d17728",
   "metadata": {},
   "outputs": [],
   "source": [
    "def get_country_from_city(city_name):\n",
    "    # Function to extract country name based on the City column\n",
    "    if city_name == 'Chelmsford':\n",
    "        return 'England'\n",
    "    elif city_name == 'Malahide':\n",
    "        return 'Ireland'\n",
    "    elif city_name == 'Khettarama':\n",
    "        return 'Sri Lanka'\n",
    "    elif city_name == 'Raeburn Place':\n",
    "        return 'England'\n",
    "    elif city_name == 'Pearland':\n",
    "        return 'USA'\n",
    "    elif city_name == 'Glasgow':\n",
    "        return 'Scotland'\n",
    "    elif city_name == 'Ayr':\n",
    "        return 'Scotland'\n",
    "    elif city_name == 'Uppal':\n",
    "        return 'India'\n",
    "    elif city_name == 'Guwahati':\n",
    "        return 'India'\n",
    "    elif city_name == 'Sylhet':\n",
    "        return 'India'\n",
    "    elif city_name == 'Kadapa':\n",
    "        return 'India'\n",
    "    elif city_name == 'Sooriyawewa':\n",
    "        return 'Sri Lanka'\n",
    "\n",
    "# Fill missing 'country' values based on 'city'\n",
    "for index, row in venues_df.iterrows():\n",
    "    if pd.isnull(row['country']):  # Check for missing 'country' values\n",
    "        city = row['city']\n",
    "        country_info = get_country_from_city(city)\n",
    "        venues_df.at[index, 'country'] = country_info"
   ]
  },
  {
   "cell_type": "code",
   "execution_count": 11,
   "id": "6f6f9b6f",
   "metadata": {},
   "outputs": [
    {
     "data": {
      "text/plain": [
       "id          0\n",
       "fullName    0\n",
       "city        0\n",
       "country     0\n",
       "dtype: int64"
      ]
     },
     "execution_count": 11,
     "metadata": {},
     "output_type": "execute_result"
    }
   ],
   "source": [
    "venues_df.isnull().sum()"
   ]
  },
  {
   "cell_type": "code",
   "execution_count": 12,
   "id": "332d48a5",
   "metadata": {},
   "outputs": [
    {
     "data": {
      "text/html": [
       "<div>\n",
       "<style scoped>\n",
       "    .dataframe tbody tr th:only-of-type {\n",
       "        vertical-align: middle;\n",
       "    }\n",
       "\n",
       "    .dataframe tbody tr th {\n",
       "        vertical-align: top;\n",
       "    }\n",
       "\n",
       "    .dataframe thead th {\n",
       "        text-align: right;\n",
       "    }\n",
       "</style>\n",
       "<table border=\"1\" class=\"dataframe\">\n",
       "  <thead>\n",
       "    <tr style=\"text-align: right;\">\n",
       "      <th></th>\n",
       "      <th>id</th>\n",
       "      <th>fullName</th>\n",
       "      <th>city</th>\n",
       "      <th>country</th>\n",
       "    </tr>\n",
       "  </thead>\n",
       "  <tbody>\n",
       "    <tr>\n",
       "      <th>0</th>\n",
       "      <td>1</td>\n",
       "      <td>M. A. Chidambaram Stadium</td>\n",
       "      <td>Chennai</td>\n",
       "      <td>India</td>\n",
       "    </tr>\n",
       "    <tr>\n",
       "      <th>1</th>\n",
       "      <td>2</td>\n",
       "      <td>Eden Gardens</td>\n",
       "      <td>Kolkata</td>\n",
       "      <td>India</td>\n",
       "    </tr>\n",
       "    <tr>\n",
       "      <th>2</th>\n",
       "      <td>3</td>\n",
       "      <td>Sawai Mansingh Stadium</td>\n",
       "      <td>Jaipur</td>\n",
       "      <td>India</td>\n",
       "    </tr>\n",
       "    <tr>\n",
       "      <th>3</th>\n",
       "      <td>4</td>\n",
       "      <td>Wankhede Stadium</td>\n",
       "      <td>Mumbai</td>\n",
       "      <td>India</td>\n",
       "    </tr>\n",
       "    <tr>\n",
       "      <th>4</th>\n",
       "      <td>5</td>\n",
       "      <td>M. Chinnaswamy Stadium</td>\n",
       "      <td>Bengaluru</td>\n",
       "      <td>India</td>\n",
       "    </tr>\n",
       "  </tbody>\n",
       "</table>\n",
       "</div>"
      ],
      "text/plain": [
       "   id                   fullName       city country\n",
       "0   1  M. A. Chidambaram Stadium    Chennai   India\n",
       "1   2               Eden Gardens    Kolkata   India\n",
       "2   3     Sawai Mansingh Stadium     Jaipur   India\n",
       "3   4           Wankhede Stadium     Mumbai   India\n",
       "4   5     M. Chinnaswamy Stadium  Bengaluru   India"
      ]
     },
     "execution_count": 12,
     "metadata": {},
     "output_type": "execute_result"
    }
   ],
   "source": [
    "venues_df.head()"
   ]
  },
  {
   "cell_type": "code",
   "execution_count": 13,
   "id": "2909cda4",
   "metadata": {},
   "outputs": [
    {
     "name": "stdout",
     "output_type": "stream",
     "text": [
      "<class 'pandas.core.frame.DataFrame'>\n",
      "Index: 185 entries, 0 to 191\n",
      "Data columns (total 4 columns):\n",
      " #   Column    Non-Null Count  Dtype \n",
      "---  ------    --------------  ----- \n",
      " 0   id        185 non-null    int64 \n",
      " 1   fullName  185 non-null    object\n",
      " 2   city      185 non-null    object\n",
      " 3   country   185 non-null    object\n",
      "dtypes: int64(1), object(3)\n",
      "memory usage: 11.3+ KB\n"
     ]
    }
   ],
   "source": [
    "venues_df.info()"
   ]
  },
  {
   "cell_type": "markdown",
   "id": "a6b6d11a",
   "metadata": {},
   "source": [
    "Lets save the cleaned vanues_df in a specific folder."
   ]
  },
  {
   "cell_type": "code",
   "execution_count": 14,
   "id": "cc2d3ba2",
   "metadata": {},
   "outputs": [],
   "source": [
    "# Define the file path where you want to save the CSV files\n",
    "folder_path = r'E:\\EDA\\ICC Cricket World Cup\\cleanedFiles'\n",
    "\n",
    "# Save the DataFrame as a CSV file in the specified folder\n",
    "venues_df.to_csv(folder_path + '\\\\venues.csv', index=False)"
   ]
  },
  {
   "cell_type": "code",
   "execution_count": null,
   "id": "883dc386",
   "metadata": {},
   "outputs": [],
   "source": []
  }
 ],
 "metadata": {
  "kernelspec": {
   "display_name": "Python 3 (ipykernel)",
   "language": "python",
   "name": "python3"
  },
  "language_info": {
   "codemirror_mode": {
    "name": "ipython",
    "version": 3
   },
   "file_extension": ".py",
   "mimetype": "text/x-python",
   "name": "python",
   "nbconvert_exporter": "python",
   "pygments_lexer": "ipython3",
   "version": "3.11.5"
  }
 },
 "nbformat": 4,
 "nbformat_minor": 5
}
